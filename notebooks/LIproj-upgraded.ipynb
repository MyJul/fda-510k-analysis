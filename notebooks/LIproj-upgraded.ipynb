{
 "cells": [
  {
   "cell_type": "markdown",
   "id": "2f236c92",
   "metadata": {},
   "source": [
    "# 📊 FDA 510(k) Analysis Notebook\n",
    "This notebook uses the modular `scripts/` logic to load, clean, and analyze FDA submission trends."
   ]
  },
  {
   "cell_type": "code",
   "execution_count": null,
   "id": "d59899f3",
   "metadata": {},
   "outputs": [],
   "source": [
    "# Imports\n",
    "from scripts.data_processing import load_510k_data, calculate_decision_days, filter_top_product_codes, summarize_decision_days_by_product_code\n",
    "from scripts.visualization import plot_avg_decision_days_bar, plot_decision_time_distribution\n",
    "import pandas as pd"
   ]
  },
  {
   "cell_type": "code",
   "execution_count": null,
   "id": "c198beba",
   "metadata": {},
   "outputs": [],
   "source": [
    "# Load and preprocess the dataset\n",
    "df510k = load_510k_data(\"data/Basecamp_combined_cleansed.csv\")\n",
    "df510k = calculate_decision_days(df510k)\n",
    "df510k.sample(5)"
   ]
  },
  {
   "cell_type": "markdown",
   "id": "c4d2d5af",
   "metadata": {},
   "source": [
    "## 🔍 Summary of Top Product Codes"
   ]
  },
  {
   "cell_type": "code",
   "execution_count": null,
   "id": "f1aa9017",
   "metadata": {},
   "outputs": [],
   "source": [
    "top_df = filter_top_product_codes(df510k)\n",
    "summary_df = summarize_decision_days_by_product_code(top_df)\n",
    "summary_df.head()"
   ]
  },
  {
   "cell_type": "markdown",
   "id": "17c04ad9",
   "metadata": {},
   "source": [
    "## 📈 Average Decision Time by Product Code"
   ]
  },
  {
   "cell_type": "code",
   "execution_count": null,
   "id": "319ad404",
   "metadata": {},
   "outputs": [],
   "source": [
    "plot_avg_decision_days_bar(summary_df)"
   ]
  },
  {
   "cell_type": "markdown",
   "id": "39c1d413",
   "metadata": {},
   "source": [
    "## 📦 Decision Time Distribution by Decision Type"
   ]
  },
  {
   "cell_type": "code",
   "execution_count": null,
   "id": "87423ab3",
   "metadata": {},
   "outputs": [],
   "source": [
    "plot_decision_time_distribution(df510k, group_col='DECISION')"
   ]
  }
 ],
 "metadata": {
  "kernelspec": {
   "display_name": "Python 3",
   "language": "python",
   "name": "python3"
  },
  "language_info": {
   "name": "python",
   "version": "3.12.6"
  }
 },
 "nbformat": 4,
 "nbformat_minor": 5
}
